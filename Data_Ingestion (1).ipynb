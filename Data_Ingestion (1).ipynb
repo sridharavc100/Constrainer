{
  "cells": [
    {
      "cell_type": "code",
      "source": [
        "# This program obtains data from the AIF and stores them in the datastore for the required fields"
      ],
      "outputs": [],
      "execution_count": 46,
      "metadata": {
        "gather": {
          "logged": 1678983453553
        }
      }
    },
    {
      "cell_type": "code",
      "source": [
        "import azureml.core\n",
        "import pandas as pd\n",
        "from azureml.core import Workspace, Dataset, Environment\n",
        "# Load the workspace from the saved config file\n",
        "ws = Workspace.from_config()\n",
        "print('Ready to use Azure ML {} to work with {}'.format(azureml.core.VERSION, ws.name))"
      ],
      "outputs": [
        {
          "output_type": "stream",
          "name": "stdout",
          "text": "Ready to use Azure ML 1.47.0 to work with eunmldevamlwsgom\n"
        }
      ],
      "execution_count": 47,
      "metadata": {
        "gather": {
          "logged": 1678983454190
        },
        "jupyter": {
          "outputs_hidden": false,
          "source_hidden": false
        },
        "nteract": {
          "transient": {
            "deleting": false
          }
        }
      }
    },
    {
      "cell_type": "code",
      "source": [
        "# Loading the Workspace\n",
        "\n",
        "\n",
        "from azureml.core.workspace import Workspace\n",
        "ws = Workspace.from_config()\n",
        "print(ws.name, ws.resource_group, ws.location, ws.subscription_id, sep='\\n')\n"
      ],
      "outputs": [
        {
          "output_type": "stream",
          "name": "stdout",
          "text": "eunmldevamlwsgom\nseq00963-nprd-eun-mldev-aml-gom\nnortheurope\ncf11c61d-e6ca-4f6b-b8df-d2a77e8a4d04\n"
        }
      ],
      "execution_count": 48,
      "metadata": {
        "gather": {
          "logged": 1678983454575
        },
        "jupyter": {
          "outputs_hidden": false,
          "source_hidden": false
        },
        "nteract": {
          "transient": {
            "deleting": false
          }
        }
      }
    },
    {
      "cell_type": "code",
      "source": [
        "# Loading the data store\n",
        "\n",
        "from azureml.core import Datastore\n",
        "datastore = Datastore.get(workspace=ws, datastore_name=\"aif_gom\")\n",
        "datastore\n"
      ],
      "outputs": [
        {
          "output_type": "execute_result",
          "execution_count": 49,
          "data": {
            "text/plain": "<azureml.data.azure_sql_database_datastore.AzureSqlDatabaseDatastore at 0x7f6c36f5efa0>"
          },
          "metadata": {}
        }
      ],
      "execution_count": 49,
      "metadata": {
        "gather": {
          "logged": 1678983454966
        },
        "jupyter": {
          "outputs_hidden": false,
          "source_hidden": false
        },
        "nteract": {
          "transient": {
            "deleting": false
          }
        }
      }
    },
    {
      "cell_type": "code",
      "source": [
        "# TO INCLUDE\n",
        "# Config file for Asset Name\n",
        "# Config file for start and end date\n",
        "# Mapping of asset name with Code\n",
        "\n"
      ],
      "outputs": [],
      "execution_count": 50,
      "metadata": {
        "gather": {
          "logged": 1678983455122
        },
        "jupyter": {
          "outputs_hidden": false,
          "source_hidden": false
        },
        "nteract": {
          "transient": {
            "deleting": false
          }
        }
      }
    },
    {
      "cell_type": "code",
      "source": [
        "# Query Name : Loading only the FC and FP \n",
        "# 810 ursa\n",
        "# \n",
        "# Date : From this week till end of the year.\n",
        "# /****** Script for SelectTopNRows command from SSMS  ******/\n",
        "stringtorun = \"SELECT A.ID, A.WORK_ORDER_SRC_ID, A.FACILITY_ID, A.PLANNER_GROUP_CODE, A.MAINTENANCE_PLANNER_GROUP_NAME, A.ASSET_DOMAIN_CODE, A.WBS_ID, A.WBS_CODE, A.WORK_ORDER_NAME, A.BASIC_START_DATE, A.BASIC_START_DATETIME, A.BASIC_END_DATE, A.SCHEDULED_START_DATE, A.BASIC_END_DATETIME, A.SCHEDULED_FINISH_DATE, A.ORIGINAL_LATEST_ALLOWABLE_FINISH_DATE, A.WORK_ORDER_TYPE_CODE, A.LATEST_ALLOWABLE_FINISH_DATE, A.SCHEDULED_START_DATETIME, A.SCHEDULED_FINISH_DATETIME, A.INTEGRATED_ACTIVITY_PLANNING_IMPACT_TYPE_CODE, A.INTEGRATED_ACTIVITY_PLANNING_IMPACT_TYPE_NAME, A.PLANT_CODE, A.FUNCTIONAL_LOCATION, A.ABC_INDICATOR, A.ITEM_SHORT_TEXT, A.MAIN_WORK_CENTER, A.MAIN_WORK_CENTER_DESCRIPTION, A.CONCAT_SYSTEM_STATUS, A.CONCAT_USER_STATUS, A.PRIORITY_CODE, A.SUPERIOR_ACTIVITY, A.WORK_ORDER_CREATED_DATE, A.LATEST_ALLOWABLE_START_DATE, A.ORIGINAL_LATEST_ALLOWABLE_START_DATE, A.WBS_SRC_ID, A.WORK_ORDER_DESCRIPTION, A.WORK_ORDER_REQUESTER_NAME, A.ESTIMATED_COST, B.PLANNED_WORK, B.PLANNED_WORK_UNIT_OF_MEASURE,B.WORK_ACTIVITY_COUNTER, B.WORK_CENTER, B.WORK_CENTER_DESCRIPTION, B.WORK_ACTIVITY_NUMBER FROM DM_WORK.FACT_WORK_ORDER AS A LEFT JOIN DM_WORK.FACT_WORK_OPERATION AS B ON A.ID = B.WORK_ORDER_ID WHERE SCHEDULED_START_DATE >= '1/1/2023' AND PLANNER_GROUP_CODE = '426' \""
      ],
      "outputs": [],
      "execution_count": 51,
      "metadata": {
        "gather": {
          "logged": 1678983455280
        },
        "jupyter": {
          "outputs_hidden": false,
          "source_hidden": false
        },
        "nteract": {
          "transient": {
            "deleting": false
          }
        }
      }
    },
    {
      "cell_type": "code",
      "source": [
        "from azureml.core import Dataset\n",
        "from azureml.data.datapath import DataPath\n",
        "\n",
        "query = DataPath(datastore,stringtorun)\n",
        "tabular = Dataset.Tabular.from_sql_query(query, query_timeout=300)\n",
        "df = tabular.to_pandas_dataframe()\n",
        "df.head()"
      ],
      "outputs": [
        {
          "output_type": "execute_result",
          "execution_count": 52,
          "data": {
            "text/plain": "         ID WORK_ORDER_SRC_ID  FACILITY_ID PLANNER_GROUP_CODE  \\\n0  81897272      000029228140    3236971.0                426   \n1  88944962      000060117152    3236971.0                426   \n2  92726722      000060495948    3236971.0                426   \n3  96705832      000060894488    3236971.0                426   \n4  97427852      000060966776    3236971.0                426   \n\n  MAINTENANCE_PLANNER_GROUP_NAME ASSET_DOMAIN_CODE  WBS_ID  WBS_CODE  \\\n0                          Auger            AD0285  825622  00091910   \n1                          Auger            AD0285  825622  00091910   \n2                          Auger            AD0285  825622  00091910   \n3                          Auger            AD0285  825622  00091910   \n4                          Auger            AD0285  825622  00091910   \n\n                            WORK_ORDER_NAME BASIC_START_DATE  ...  \\\n0  CAIR2745 Hot Work Replace Sewage Overboa       2025-12-25  ...   \n1              Replace MBV 430 Block Valves       2023-05-04  ...   \n2  CAIR6217 - Defective Handrail(s) UD SE 2       2023-09-25  ...   \n3          Repair Grounding Cables on PRT's       2025-12-25  ...   \n4           PBE-271 Engine Corrosion Repair       2023-05-16  ...   \n\n         WBS_SRC_ID WORK_ORDER_DESCRIPTION WORK_ORDER_REQUESTER_NAME  \\\n0  O.US.750.AUG.471                   None                      None   \n1  O.US.750.AUG.471                   None                      None   \n2  O.US.750.AUG.471                   None                      None   \n3  O.US.750.AUG.471                   None                      None   \n4  O.US.750.AUG.471                   None                      None   \n\n  ESTIMATED_COST PLANNED_WORK PLANNED_WORK_UNIT_OF_MEASURE  \\\n0       102055.0        675.0                            H   \n1         2269.9          4.0                            H   \n2        12500.0        158.0                            H   \n3         5673.7          0.0                            H   \n4        14900.0          0.0                            H   \n\n  WORK_ACTIVITY_COUNTER WORK_CENTER        WORK_CENTER_DESCRIPTION  \\\n0              00000002     426CNST  Construction (MainWorkCenter)   \n1              00000002    DB984738                 Benoit, Donnie   \n2              00000001     426CNST  Construction (MainWorkCenter)   \n3              00000001    426GINST      Auger GIS Instrumentation   \n4              00000001       EXTCO    EXT SVS-For PM CNF-Call Out   \n\n  WORK_ACTIVITY_NUMBER  \n0                 0020  \n1                 0020  \n2                 0010  \n3                 0010  \n4                 0010  \n\n[5 rows x 45 columns]",
            "text/html": "<div>\n<style scoped>\n    .dataframe tbody tr th:only-of-type {\n        vertical-align: middle;\n    }\n\n    .dataframe tbody tr th {\n        vertical-align: top;\n    }\n\n    .dataframe thead th {\n        text-align: right;\n    }\n</style>\n<table border=\"1\" class=\"dataframe\">\n  <thead>\n    <tr style=\"text-align: right;\">\n      <th></th>\n      <th>ID</th>\n      <th>WORK_ORDER_SRC_ID</th>\n      <th>FACILITY_ID</th>\n      <th>PLANNER_GROUP_CODE</th>\n      <th>MAINTENANCE_PLANNER_GROUP_NAME</th>\n      <th>ASSET_DOMAIN_CODE</th>\n      <th>WBS_ID</th>\n      <th>WBS_CODE</th>\n      <th>WORK_ORDER_NAME</th>\n      <th>BASIC_START_DATE</th>\n      <th>...</th>\n      <th>WBS_SRC_ID</th>\n      <th>WORK_ORDER_DESCRIPTION</th>\n      <th>WORK_ORDER_REQUESTER_NAME</th>\n      <th>ESTIMATED_COST</th>\n      <th>PLANNED_WORK</th>\n      <th>PLANNED_WORK_UNIT_OF_MEASURE</th>\n      <th>WORK_ACTIVITY_COUNTER</th>\n      <th>WORK_CENTER</th>\n      <th>WORK_CENTER_DESCRIPTION</th>\n      <th>WORK_ACTIVITY_NUMBER</th>\n    </tr>\n  </thead>\n  <tbody>\n    <tr>\n      <th>0</th>\n      <td>81897272</td>\n      <td>000029228140</td>\n      <td>3236971.0</td>\n      <td>426</td>\n      <td>Auger</td>\n      <td>AD0285</td>\n      <td>825622</td>\n      <td>00091910</td>\n      <td>CAIR2745 Hot Work Replace Sewage Overboa</td>\n      <td>2025-12-25</td>\n      <td>...</td>\n      <td>O.US.750.AUG.471</td>\n      <td>None</td>\n      <td>None</td>\n      <td>102055.0</td>\n      <td>675.0</td>\n      <td>H</td>\n      <td>00000002</td>\n      <td>426CNST</td>\n      <td>Construction (MainWorkCenter)</td>\n      <td>0020</td>\n    </tr>\n    <tr>\n      <th>1</th>\n      <td>88944962</td>\n      <td>000060117152</td>\n      <td>3236971.0</td>\n      <td>426</td>\n      <td>Auger</td>\n      <td>AD0285</td>\n      <td>825622</td>\n      <td>00091910</td>\n      <td>Replace MBV 430 Block Valves</td>\n      <td>2023-05-04</td>\n      <td>...</td>\n      <td>O.US.750.AUG.471</td>\n      <td>None</td>\n      <td>None</td>\n      <td>2269.9</td>\n      <td>4.0</td>\n      <td>H</td>\n      <td>00000002</td>\n      <td>DB984738</td>\n      <td>Benoit, Donnie</td>\n      <td>0020</td>\n    </tr>\n    <tr>\n      <th>2</th>\n      <td>92726722</td>\n      <td>000060495948</td>\n      <td>3236971.0</td>\n      <td>426</td>\n      <td>Auger</td>\n      <td>AD0285</td>\n      <td>825622</td>\n      <td>00091910</td>\n      <td>CAIR6217 - Defective Handrail(s) UD SE 2</td>\n      <td>2023-09-25</td>\n      <td>...</td>\n      <td>O.US.750.AUG.471</td>\n      <td>None</td>\n      <td>None</td>\n      <td>12500.0</td>\n      <td>158.0</td>\n      <td>H</td>\n      <td>00000001</td>\n      <td>426CNST</td>\n      <td>Construction (MainWorkCenter)</td>\n      <td>0010</td>\n    </tr>\n    <tr>\n      <th>3</th>\n      <td>96705832</td>\n      <td>000060894488</td>\n      <td>3236971.0</td>\n      <td>426</td>\n      <td>Auger</td>\n      <td>AD0285</td>\n      <td>825622</td>\n      <td>00091910</td>\n      <td>Repair Grounding Cables on PRT's</td>\n      <td>2025-12-25</td>\n      <td>...</td>\n      <td>O.US.750.AUG.471</td>\n      <td>None</td>\n      <td>None</td>\n      <td>5673.7</td>\n      <td>0.0</td>\n      <td>H</td>\n      <td>00000001</td>\n      <td>426GINST</td>\n      <td>Auger GIS Instrumentation</td>\n      <td>0010</td>\n    </tr>\n    <tr>\n      <th>4</th>\n      <td>97427852</td>\n      <td>000060966776</td>\n      <td>3236971.0</td>\n      <td>426</td>\n      <td>Auger</td>\n      <td>AD0285</td>\n      <td>825622</td>\n      <td>00091910</td>\n      <td>PBE-271 Engine Corrosion Repair</td>\n      <td>2023-05-16</td>\n      <td>...</td>\n      <td>O.US.750.AUG.471</td>\n      <td>None</td>\n      <td>None</td>\n      <td>14900.0</td>\n      <td>0.0</td>\n      <td>H</td>\n      <td>00000001</td>\n      <td>EXTCO</td>\n      <td>EXT SVS-For PM CNF-Call Out</td>\n      <td>0010</td>\n    </tr>\n  </tbody>\n</table>\n<p>5 rows × 45 columns</p>\n</div>"
          },
          "metadata": {}
        }
      ],
      "execution_count": 52,
      "metadata": {
        "gather": {
          "logged": 1678983464154
        },
        "jupyter": {
          "outputs_hidden": false,
          "source_hidden": false
        },
        "nteract": {
          "transient": {
            "deleting": false
          }
        }
      }
    },
    {
      "cell_type": "code",
      "source": [
        "# Unloading Point\n",
        "\n",
        "stringtorun = \"SELECT A.ID, A.WORK_ORDER_SRC_ID, C.WORK_ORDER_ID,C.WORK_ORDER_NUMBER, C.CREATION_DATETIME, C.WORK_ORDER_OPERATION_NUMBER,  C.RESERVATION_UNLOADING_POINT FROM DM_WORK.FACT_WORK_ORDER AS A LEFT JOIN DM_SUPPLY_CHAIN.FACT_RESERVATION_REQUIREMENT AS C ON A.WORK_ORDER_SRC_ID = C.WORK_ORDER_NUMBER WHERE SCHEDULED_START_DATE >= '1/1/2023' AND PLANNER_GROUP_CODE = '426'\"\n",
        "query = DataPath(datastore,stringtorun)\n",
        "tabular = Dataset.Tabular.from_sql_query(query, query_timeout=300)\n",
        "uldf = tabular.to_pandas_dataframe()\n",
        "\n"
      ],
      "outputs": [],
      "execution_count": 53,
      "metadata": {
        "gather": {
          "logged": 1678983469108
        }
      }
    },
    {
      "cell_type": "code",
      "source": [
        "# To convert the unloading point to datetime\n",
        "from dateutil.parser import parse\n",
        "\n",
        "def is_date(string, fuzzy=True):\n",
        "    \"\"\"\n",
        "    Return whether the string can be interpreted as a date.\n",
        "\n",
        "    :param string: str, string to check for date\n",
        "    :param fuzzy: bool, ignore unknown tokens in string if True\n",
        "    \"\"\"\n",
        "    try: \n",
        "        parse(string, fuzzy=fuzzy)\n",
        "        return True\n",
        "\n",
        "    except ValueError:\n",
        "        return False\n",
        "    \n",
        "def processETAdate(unloadingdf):\n",
        "    datelist = []\n",
        "    for cnt in range(0,len(unloadingdf)):\n",
        "        strtocheck = str(unloadingdf.loc[unloadingdf.index[cnt],'RESERVATION_UNLOADING_POINT'])\n",
        "        if is_date(strtocheck) == True :\n",
        "            datelist.append(parse(strtocheck,fuzzy=True))\n",
        "    if len(datelist) > 0:\n",
        "        return max(datelist),len(datelist)\n",
        "    else:\n",
        "        return None,None\n",
        " \n",
        "    "
      ],
      "outputs": [],
      "execution_count": 54,
      "metadata": {
        "gather": {
          "logged": 1678983469318
        }
      }
    },
    {
      "cell_type": "code",
      "source": [
        "currin = pd.DataFrame()\n",
        "for i in uldf['WORK_ORDER_NUMBER'].unique():\n",
        "    resdf = uldf[uldf['WORK_ORDER_NUMBER']==i]\n",
        "    for j in resdf['WORK_ORDER_OPERATION_NUMBER'].unique():\n",
        "        actdf = resdf[resdf['WORK_ORDER_OPERATION_NUMBER']==j]\n",
        "        if actdf['RESERVATION_UNLOADING_POINT'].str.contains('ETA').any():\n",
        "            findf = actdf[actdf['RESERVATION_UNLOADING_POINT'].str.contains('ETA')]\n",
        "            ulp,N = processETAdate(findf)          \n",
        "            wo = findf.loc[findf.index[-1],'WORK_ORDER_NUMBER']\n",
        "            ac = findf.loc[findf.index[-1],'WORK_ORDER_OPERATION_NUMBER']\n",
        "            currin = df[(df['WORK_ORDER_SRC_ID']==wo) & (df['WORK_ACTIVITY_NUMBER']==ac)]\n",
        "            if len(currin) > 0:\n",
        "                df.loc[currin.index[0],'ETADate'] = ulp\n",
        "                df.loc[currin.index[0],'RESERVATION_UNLOADING_POINT_Entries'] = N"
      ],
      "outputs": [],
      "execution_count": 55,
      "metadata": {
        "gather": {
          "logged": 1678983470459
        }
      }
    },
    {
      "cell_type": "code",
      "source": [
        "# Suitability\n",
        "stringtorun = 'SELECT SUITABILITY_CODE,WORK_CENTER_LOCATION_NAME, WORK_CENTER_NAME,WORK_CENTER_CODE,PLANT FROM DM_WORK.DIM_WORK_CENTER'\n",
        "query = DataPath(datastore,stringtorun)\n",
        "tabular = Dataset.Tabular.from_sql_query(query, query_timeout=300)\n",
        "suitability_info = tabular.to_pandas_dataframe()\n"
      ],
      "outputs": [],
      "execution_count": 56,
      "metadata": {
        "gather": {
          "logged": 1678983470690
        }
      }
    },
    {
      "cell_type": "code",
      "source": [
        "suitability_info.to_csv('suitability_info.csv')"
      ],
      "outputs": [],
      "execution_count": 57,
      "metadata": {
        "gather": {
          "logged": 1678983470935
        },
        "jupyter": {
          "outputs_hidden": false,
          "source_hidden": false
        },
        "nteract": {
          "transient": {
            "deleting": false
          }
        }
      }
    },
    {
      "cell_type": "code",
      "source": [
        "import numpy as np\n",
        "for cnt in df['WORK_CENTER'].unique():\n",
        "    if cnt != None:\n",
        "        code = suitability_info[suitability_info['WORK_CENTER_CODE'].str.contains(cnt)]['SUITABILITY_CODE'].unique()\n",
        "#         if cnt=='426MECH':\n",
        "#         print(cnt,code)\n",
        "#         if len(code)<2:\n",
        "        subdf = df[df['WORK_CENTER']==cnt]\n",
        "        df.loc[subdf.index,'SuitabilityCode'] = pd.to_numeric(code[0], errors='coerce')\n",
        "        "
      ],
      "outputs": [],
      "execution_count": 58,
      "metadata": {
        "jupyter": {
          "outputs_hidden": false,
          "source_hidden": false
        },
        "nteract": {
          "transient": {
            "deleting": false
          }
        },
        "gather": {
          "logged": 1678983472368
        }
      }
    },
    {
      "cell_type": "code",
      "source": [
        "df.to_csv('Auger_Backlog.csv')"
      ],
      "outputs": [],
      "execution_count": 59,
      "metadata": {
        "gather": {
          "logged": 1678983472895
        }
      }
    },
    {
      "cell_type": "code",
      "source": [
        "defdatastore = ws.get_default_datastore()\n",
        "# Register the dataset\n",
        "ds = Dataset.Tabular.register_pandas_dataframe(\n",
        "        dataframe=df, \n",
        "        name='Auger_Backlog', \n",
        "        description='Auger_Backlog',\n",
        "        target=defdatastore\n",
        "    )"
      ],
      "outputs": [
        {
          "output_type": "stream",
          "name": "stdout",
          "text": "Validating arguments.\nArguments validated.\nSuccessfully obtained datastore reference and path.\nUploading file to managed-dataset/82fc7765-d4e4-4a81-bfe7-5c705b124e46/\nSuccessfully uploaded file to datastore.\nCreating and registering a new dataset.\nSuccessfully created and registered a new dataset.\n"
        }
      ],
      "execution_count": 60,
      "metadata": {
        "gather": {
          "logged": 1678983475360
        }
      }
    }
  ],
  "metadata": {
    "kernel_info": {
      "name": "python38-azureml"
    },
    "kernelspec": {
      "name": "python38-azureml",
      "language": "python",
      "display_name": "Python 3.8 - AzureML"
    },
    "language_info": {
      "name": "python",
      "version": "3.8.5",
      "mimetype": "text/x-python",
      "codemirror_mode": {
        "name": "ipython",
        "version": 3
      },
      "pygments_lexer": "ipython3",
      "nbconvert_exporter": "python",
      "file_extension": ".py"
    },
    "microsoft": {
      "host": {
        "AzureML": {
          "notebookHasBeenCompleted": true
        }
      },
      "ms_spell_check": {
        "ms_spell_check_language": "en"
      }
    },
    "nteract": {
      "version": "nteract-front-end@1.0.0"
    }
  },
  "nbformat": 4,
  "nbformat_minor": 2
}