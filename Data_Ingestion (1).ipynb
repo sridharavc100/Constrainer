{
 "cells": [
  {
   "cell_type": "code",
   "execution_count": 1,
   "metadata": {
    "gather": {
     "logged": 1678728095603
    }
   },
   "outputs": [],
   "source": [
    "# This program obtains data from the AIF and stores them in the datastore for the required fields"
   ]
  },
  {
   "cell_type": "code",
   "execution_count": 2,
   "metadata": {
    "gather": {
     "logged": 1678728098560
    },
    "jupyter": {
     "outputs_hidden": false,
     "source_hidden": false
    },
    "nteract": {
     "transient": {
      "deleting": false
     }
    }
   },
   "outputs": [
    {
     "name": "stdout",
     "output_type": "stream",
     "text": [
      "Ready to use Azure ML 1.47.0 to work with eunmldevamlwsgom\n"
     ]
    }
   ],
   "source": [
    "import azureml.core\n",
    "import pandas as pd\n",
    "from azureml.core import Workspace, Dataset, Environment\n",
    "# Load the workspace from the saved config file\n",
    "ws = Workspace.from_config()\n",
    "print('Ready to use Azure ML {} to work with {}'.format(azureml.core.VERSION, ws.name))"
   ]
  },
  {
   "cell_type": "code",
   "execution_count": 3,
   "metadata": {
    "gather": {
     "logged": 1678728098900
    },
    "jupyter": {
     "outputs_hidden": false,
     "source_hidden": false
    },
    "nteract": {
     "transient": {
      "deleting": false
     }
    }
   },
   "outputs": [
    {
     "name": "stdout",
     "output_type": "stream",
     "text": [
      "eunmldevamlwsgom\n",
      "seq00963-nprd-eun-mldev-aml-gom\n",
      "northeurope\n",
      "cf11c61d-e6ca-4f6b-b8df-d2a77e8a4d04\n"
     ]
    }
   ],
   "source": [
    "# Loading the Workspace\n",
    "\n",
    "\n",
    "from azureml.core.workspace import Workspace\n",
    "ws = Workspace.from_config()\n",
    "print(ws.name, ws.resource_group, ws.location, ws.subscription_id, sep='\\n')\n"
   ]
  },
  {
   "cell_type": "code",
   "execution_count": 4,
   "metadata": {
    "gather": {
     "logged": 1678728099319
    },
    "jupyter": {
     "outputs_hidden": false,
     "source_hidden": false
    },
    "nteract": {
     "transient": {
      "deleting": false
     }
    }
   },
   "outputs": [
    {
     "data": {
      "text/plain": [
       "<azureml.data.azure_sql_database_datastore.AzureSqlDatabaseDatastore at 0x7f558a0d9970>"
      ]
     },
     "execution_count": 4,
     "metadata": {},
     "output_type": "execute_result"
    }
   ],
   "source": [
    "# Loading the data store\n",
    "\n",
    "from azureml.core import Datastore\n",
    "datastore = Datastore.get(workspace=ws, datastore_name=\"aif_gom\")\n",
    "datastore\n"
   ]
  },
  {
   "cell_type": "code",
   "execution_count": 5,
   "metadata": {
    "gather": {
     "logged": 1678728099431
    },
    "jupyter": {
     "outputs_hidden": false,
     "source_hidden": false
    },
    "nteract": {
     "transient": {
      "deleting": false
     }
    }
   },
   "outputs": [],
   "source": [
    "# TO INCLUDE\n",
    "# Config file for Asset Name\n",
    "# Config file for start and end date\n",
    "# Mapping of asset name with Code\n",
    "\n"
   ]
  },
  {
   "cell_type": "code",
   "execution_count": 6,
   "metadata": {
    "gather": {
     "logged": 1678728099570
    },
    "jupyter": {
     "outputs_hidden": false,
     "source_hidden": false
    },
    "nteract": {
     "transient": {
      "deleting": false
     }
    }
   },
   "outputs": [],
   "source": [
    "# Query Name : Loading only the FC and FP \n",
    "# 810 ursa\n",
    "# \n",
    "# Date : From this week till end of the year.\n",
    "# /****** Script for SelectTopNRows command from SSMS  ******/\n",
    "stringtorun = \"SELECT A.ID, A.WORK_ORDER_SRC_ID, A.FACILITY_ID, A.PLANNER_GROUP_CODE, A.MAINTENANCE_PLANNER_GROUP_NAME, A.ASSET_DOMAIN_CODE, A.WBS_ID, A.WBS_CODE, A.WORK_ORDER_NAME, A.BASIC_START_DATE, A.BASIC_START_DATETIME, A.BASIC_END_DATE, A.SCHEDULED_START_DATE, A.BASIC_END_DATETIME, A.SCHEDULED_FINISH_DATE, A.ORIGINAL_LATEST_ALLOWABLE_FINISH_DATE, A.WORK_ORDER_TYPE_CODE, A.LATEST_ALLOWABLE_FINISH_DATE, A.SCHEDULED_START_DATETIME, A.SCHEDULED_FINISH_DATETIME, A.INTEGRATED_ACTIVITY_PLANNING_IMPACT_TYPE_CODE, A.INTEGRATED_ACTIVITY_PLANNING_IMPACT_TYPE_NAME, A.PLANT_CODE, A.FUNCTIONAL_LOCATION, A.ABC_INDICATOR, A.ITEM_SHORT_TEXT, A.MAIN_WORK_CENTER, A.MAIN_WORK_CENTER_DESCRIPTION, A.CONCAT_SYSTEM_STATUS, A.CONCAT_USER_STATUS, A.PRIORITY_CODE, A.SUPERIOR_ACTIVITY, A.WORK_ORDER_CREATED_DATE, A.LATEST_ALLOWABLE_START_DATE, A.ORIGINAL_LATEST_ALLOWABLE_START_DATE, A.WBS_SRC_ID, A.WORK_ORDER_DESCRIPTION, A.WORK_ORDER_REQUESTER_NAME, A.ESTIMATED_COST, B.PLANNED_WORK, B.PLANNED_WORK_UNIT_OF_MEASURE,B.WORK_ACTIVITY_COUNTER, B.WORK_CENTER, B.WORK_CENTER_DESCRIPTION, B.WORK_ACTIVITY_NUMBER FROM DM_WORK.FACT_WORK_ORDER AS A LEFT JOIN DM_WORK.FACT_WORK_OPERATION AS B ON A.ID = B.WORK_ORDER_ID WHERE SCHEDULED_START_DATE >= '1/1/2023' AND PLANNER_GROUP_CODE = 'OLY' \""
   ]
  },
  {
   "cell_type": "code",
   "execution_count": 7,
   "metadata": {
    "gather": {
     "logged": 1678728119005
    },
    "jupyter": {
     "outputs_hidden": false,
     "source_hidden": false
    },
    "nteract": {
     "transient": {
      "deleting": false
     }
    }
   },
   "outputs": [
    {
     "name": "stdout",
     "output_type": "stream",
     "text": [
      "Resolving access token for scope \"https://database.windows.net//.default\" using identity of type \"MANAGED\".\n",
      "Getting data access token with Assigned Identity (client_id=clientid) and endpoint type based on configuration\n"
     ]
    },
    {
     "data": {
      "text/html": [
       "<div>\n",
       "<style scoped>\n",
       "    .dataframe tbody tr th:only-of-type {\n",
       "        vertical-align: middle;\n",
       "    }\n",
       "\n",
       "    .dataframe tbody tr th {\n",
       "        vertical-align: top;\n",
       "    }\n",
       "\n",
       "    .dataframe thead th {\n",
       "        text-align: right;\n",
       "    }\n",
       "</style>\n",
       "<table border=\"1\" class=\"dataframe\">\n",
       "  <thead>\n",
       "    <tr style=\"text-align: right;\">\n",
       "      <th></th>\n",
       "      <th>ID</th>\n",
       "      <th>WORK_ORDER_SRC_ID</th>\n",
       "      <th>FACILITY_ID</th>\n",
       "      <th>PLANNER_GROUP_CODE</th>\n",
       "      <th>MAINTENANCE_PLANNER_GROUP_NAME</th>\n",
       "      <th>ASSET_DOMAIN_CODE</th>\n",
       "      <th>WBS_ID</th>\n",
       "      <th>WBS_CODE</th>\n",
       "      <th>WORK_ORDER_NAME</th>\n",
       "      <th>BASIC_START_DATE</th>\n",
       "      <th>...</th>\n",
       "      <th>WBS_SRC_ID</th>\n",
       "      <th>WORK_ORDER_DESCRIPTION</th>\n",
       "      <th>WORK_ORDER_REQUESTER_NAME</th>\n",
       "      <th>ESTIMATED_COST</th>\n",
       "      <th>PLANNED_WORK</th>\n",
       "      <th>PLANNED_WORK_UNIT_OF_MEASURE</th>\n",
       "      <th>WORK_ACTIVITY_COUNTER</th>\n",
       "      <th>WORK_CENTER</th>\n",
       "      <th>WORK_CENTER_DESCRIPTION</th>\n",
       "      <th>WORK_ACTIVITY_NUMBER</th>\n",
       "    </tr>\n",
       "  </thead>\n",
       "  <tbody>\n",
       "    <tr>\n",
       "      <th>0</th>\n",
       "      <td>96331642</td>\n",
       "      <td>000060857062</td>\n",
       "      <td>3337554.0</td>\n",
       "      <td>OLY</td>\n",
       "      <td>Mars B - Olympus</td>\n",
       "      <td>AD0107</td>\n",
       "      <td>4382122</td>\n",
       "      <td>00454264</td>\n",
       "      <td>3Y Subsea TopHoled &amp; Exploration Wells S</td>\n",
       "      <td>2023-01-13</td>\n",
       "      <td>...</td>\n",
       "      <td>O.US.MR2.OLY.001</td>\n",
       "      <td>None</td>\n",
       "      <td>None</td>\n",
       "      <td>0.0</td>\n",
       "      <td>1.0</td>\n",
       "      <td>H</td>\n",
       "      <td>00000001</td>\n",
       "      <td>EWIMS</td>\n",
       "      <td>eWIMS Confirmation Workcenter</td>\n",
       "      <td>0010</td>\n",
       "    </tr>\n",
       "    <tr>\n",
       "      <th>1</th>\n",
       "      <td>104897342</td>\n",
       "      <td>000061714497</td>\n",
       "      <td>3337554.0</td>\n",
       "      <td>OLY</td>\n",
       "      <td>Mars B - Olympus</td>\n",
       "      <td>AD0107</td>\n",
       "      <td>4382102</td>\n",
       "      <td>00454262</td>\n",
       "      <td>(ISIP) SW Hull Strip pump fail PBE-5320</td>\n",
       "      <td>2023-11-30</td>\n",
       "      <td>...</td>\n",
       "      <td>O.US.MR2.OLY.001</td>\n",
       "      <td>None</td>\n",
       "      <td>None</td>\n",
       "      <td>4000.0</td>\n",
       "      <td>6.0</td>\n",
       "      <td>H</td>\n",
       "      <td>00000001</td>\n",
       "      <td>OLYMECH</td>\n",
       "      <td>Mechanic</td>\n",
       "      <td>0025</td>\n",
       "    </tr>\n",
       "    <tr>\n",
       "      <th>2</th>\n",
       "      <td>105078912</td>\n",
       "      <td>000061732658</td>\n",
       "      <td>3337554.0</td>\n",
       "      <td>OLY</td>\n",
       "      <td>Mars B - Olympus</td>\n",
       "      <td>AD0107</td>\n",
       "      <td>4382102</td>\n",
       "      <td>00454262</td>\n",
       "      <td>USW Ball &amp; Needle Vlv Need Replaced SW</td>\n",
       "      <td>2023-02-18</td>\n",
       "      <td>...</td>\n",
       "      <td>O.US.MR2.OLY.001</td>\n",
       "      <td>None</td>\n",
       "      <td>None</td>\n",
       "      <td>400.0</td>\n",
       "      <td>4.0</td>\n",
       "      <td>H</td>\n",
       "      <td>00000001</td>\n",
       "      <td>DP231822</td>\n",
       "      <td>Pourciau, Darryl</td>\n",
       "      <td>0010</td>\n",
       "    </tr>\n",
       "    <tr>\n",
       "      <th>3</th>\n",
       "      <td>1684012222</td>\n",
       "      <td>000061761316</td>\n",
       "      <td>3337554.0</td>\n",
       "      <td>OLY</td>\n",
       "      <td>Mars B - Olympus</td>\n",
       "      <td>AD0107</td>\n",
       "      <td>4382102</td>\n",
       "      <td>00454262</td>\n",
       "      <td>CRN2 TY Boom Hoist Component change out</td>\n",
       "      <td>2023-12-03</td>\n",
       "      <td>...</td>\n",
       "      <td>O.US.MR2.OLY.001</td>\n",
       "      <td>None</td>\n",
       "      <td>None</td>\n",
       "      <td>0.0</td>\n",
       "      <td>22.5</td>\n",
       "      <td>H</td>\n",
       "      <td>00000001</td>\n",
       "      <td>OLYCRMEC</td>\n",
       "      <td>Crane Mechanic</td>\n",
       "      <td>0010</td>\n",
       "    </tr>\n",
       "    <tr>\n",
       "      <th>4</th>\n",
       "      <td>1684012242</td>\n",
       "      <td>000061761318</td>\n",
       "      <td>3337554.0</td>\n",
       "      <td>OLY</td>\n",
       "      <td>Mars B - Olympus</td>\n",
       "      <td>AD0107</td>\n",
       "      <td>4382102</td>\n",
       "      <td>00454262</td>\n",
       "      <td>CRN3 TY Boom Hoist Component change out</td>\n",
       "      <td>2023-12-03</td>\n",
       "      <td>...</td>\n",
       "      <td>O.US.MR2.OLY.001</td>\n",
       "      <td>None</td>\n",
       "      <td>None</td>\n",
       "      <td>0.0</td>\n",
       "      <td>60.0</td>\n",
       "      <td>H</td>\n",
       "      <td>00000003</td>\n",
       "      <td>OLYBLF</td>\n",
       "      <td>Olympus Bilfinger Maintenance Crew</td>\n",
       "      <td>0020</td>\n",
       "    </tr>\n",
       "  </tbody>\n",
       "</table>\n",
       "<p>5 rows × 45 columns</p>\n",
       "</div>"
      ],
      "text/plain": [
       "           ID WORK_ORDER_SRC_ID  FACILITY_ID PLANNER_GROUP_CODE  \\\n",
       "0    96331642      000060857062    3337554.0                OLY   \n",
       "1   104897342      000061714497    3337554.0                OLY   \n",
       "2   105078912      000061732658    3337554.0                OLY   \n",
       "3  1684012222      000061761316    3337554.0                OLY   \n",
       "4  1684012242      000061761318    3337554.0                OLY   \n",
       "\n",
       "  MAINTENANCE_PLANNER_GROUP_NAME ASSET_DOMAIN_CODE   WBS_ID  WBS_CODE  \\\n",
       "0               Mars B - Olympus            AD0107  4382122  00454264   \n",
       "1               Mars B - Olympus            AD0107  4382102  00454262   \n",
       "2               Mars B - Olympus            AD0107  4382102  00454262   \n",
       "3               Mars B - Olympus            AD0107  4382102  00454262   \n",
       "4               Mars B - Olympus            AD0107  4382102  00454262   \n",
       "\n",
       "                            WORK_ORDER_NAME BASIC_START_DATE  ...  \\\n",
       "0  3Y Subsea TopHoled & Exploration Wells S       2023-01-13  ...   \n",
       "1   (ISIP) SW Hull Strip pump fail PBE-5320       2023-11-30  ...   \n",
       "2    USW Ball & Needle Vlv Need Replaced SW       2023-02-18  ...   \n",
       "3   CRN2 TY Boom Hoist Component change out       2023-12-03  ...   \n",
       "4   CRN3 TY Boom Hoist Component change out       2023-12-03  ...   \n",
       "\n",
       "         WBS_SRC_ID WORK_ORDER_DESCRIPTION WORK_ORDER_REQUESTER_NAME  \\\n",
       "0  O.US.MR2.OLY.001                   None                      None   \n",
       "1  O.US.MR2.OLY.001                   None                      None   \n",
       "2  O.US.MR2.OLY.001                   None                      None   \n",
       "3  O.US.MR2.OLY.001                   None                      None   \n",
       "4  O.US.MR2.OLY.001                   None                      None   \n",
       "\n",
       "  ESTIMATED_COST PLANNED_WORK PLANNED_WORK_UNIT_OF_MEASURE  \\\n",
       "0            0.0          1.0                            H   \n",
       "1         4000.0          6.0                            H   \n",
       "2          400.0          4.0                            H   \n",
       "3            0.0         22.5                            H   \n",
       "4            0.0         60.0                            H   \n",
       "\n",
       "  WORK_ACTIVITY_COUNTER WORK_CENTER             WORK_CENTER_DESCRIPTION  \\\n",
       "0              00000001       EWIMS       eWIMS Confirmation Workcenter   \n",
       "1              00000001     OLYMECH                            Mechanic   \n",
       "2              00000001    DP231822                    Pourciau, Darryl   \n",
       "3              00000001    OLYCRMEC                      Crane Mechanic   \n",
       "4              00000003      OLYBLF  Olympus Bilfinger Maintenance Crew   \n",
       "\n",
       "  WORK_ACTIVITY_NUMBER  \n",
       "0                 0010  \n",
       "1                 0025  \n",
       "2                 0010  \n",
       "3                 0010  \n",
       "4                 0020  \n",
       "\n",
       "[5 rows x 45 columns]"
      ]
     },
     "execution_count": 7,
     "metadata": {},
     "output_type": "execute_result"
    }
   ],
   "source": [
    "from azureml.core import Dataset\n",
    "from azureml.data.datapath import DataPath\n",
    "\n",
    "query = DataPath(datastore,stringtorun)\n",
    "tabular = Dataset.Tabular.from_sql_query(query, query_timeout=300)\n",
    "df = tabular.to_pandas_dataframe()\n",
    "df.head()"
   ]
  },
  {
   "cell_type": "code",
   "execution_count": 8,
   "metadata": {
    "gather": {
     "logged": 1678728136548
    }
   },
   "outputs": [],
   "source": [
    "# Unloading Point\n",
    "\n",
    "stringtorun = \"SELECT A.ID, A.WORK_ORDER_SRC_ID, C.WORK_ORDER_ID,C.WORK_ORDER_NUMBER, C.CREATION_DATETIME, C.WORK_ORDER_OPERATION_NUMBER,  C.RESERVATION_UNLOADING_POINT FROM DM_WORK.FACT_WORK_ORDER AS A LEFT JOIN DM_SUPPLY_CHAIN.FACT_RESERVATION_REQUIREMENT AS C ON A.WORK_ORDER_SRC_ID = C.WORK_ORDER_NUMBER WHERE SCHEDULED_START_DATE >= '1/1/2023' AND PLANNER_GROUP_CODE = 'OLY'\"\n",
    "query = DataPath(datastore,stringtorun)\n",
    "tabular = Dataset.Tabular.from_sql_query(query, query_timeout=300)\n",
    "uldf = tabular.to_pandas_dataframe()\n",
    "\n"
   ]
  },
  {
   "cell_type": "code",
   "execution_count": 9,
   "metadata": {
    "gather": {
     "logged": 1678728136656
    }
   },
   "outputs": [],
   "source": [
    "# To convert the unloading point to datetime\n",
    "from dateutil.parser import parse\n",
    "\n",
    "def is_date(string, fuzzy=True):\n",
    "    \"\"\"\n",
    "    Return whether the string can be interpreted as a date.\n",
    "\n",
    "    :param string: str, string to check for date\n",
    "    :param fuzzy: bool, ignore unknown tokens in string if True\n",
    "    \"\"\"\n",
    "    try: \n",
    "        parse(string, fuzzy=fuzzy)\n",
    "        return True\n",
    "\n",
    "    except ValueError:\n",
    "        return False\n",
    "    \n",
    "def processETAdate(unloadingdf):\n",
    "    datelist = []\n",
    "    for cnt in range(0,len(unloadingdf)):\n",
    "        strtocheck = str(unloadingdf.loc[unloadingdf.index[cnt],'RESERVATION_UNLOADING_POINT'])\n",
    "        if is_date(strtocheck) == True :\n",
    "            datelist.append(parse(strtocheck,fuzzy=True))\n",
    "    if len(datelist) > 0:\n",
    "        return max(datelist),len(datelist)\n",
    "    else:\n",
    "        return None,None\n",
    " \n",
    "    "
   ]
  },
  {
   "cell_type": "code",
   "execution_count": 10,
   "metadata": {
    "gather": {
     "logged": 1678728138321
    }
   },
   "outputs": [],
   "source": [
    "currin = pd.DataFrame()\n",
    "for i in uldf['WORK_ORDER_NUMBER'].unique():\n",
    "    resdf = uldf[uldf['WORK_ORDER_NUMBER']==i]\n",
    "    for j in resdf['WORK_ORDER_OPERATION_NUMBER'].unique():\n",
    "        actdf = resdf[resdf['WORK_ORDER_OPERATION_NUMBER']==j]\n",
    "        if actdf['RESERVATION_UNLOADING_POINT'].str.contains('ETA').any():\n",
    "            findf = actdf[actdf['RESERVATION_UNLOADING_POINT'].str.contains('ETA')]\n",
    "            ulp,N = processETAdate(findf)          \n",
    "            wo = findf.loc[findf.index[-1],'WORK_ORDER_NUMBER']\n",
    "            ac = findf.loc[findf.index[-1],'WORK_ORDER_OPERATION_NUMBER']\n",
    "            currin = df[(df['WORK_ORDER_SRC_ID']==wo) & (df['WORK_ACTIVITY_NUMBER']==ac)]\n",
    "            if len(currin) > 0:\n",
    "                df.loc[currin.index[0],'ETADate'] = ulp\n",
    "                df.loc[currin.index[0],'RESERVATION_UNLOADING_POINT_Entries'] = N"
   ]
  },
  {
   "cell_type": "code",
   "execution_count": 11,
   "metadata": {
    "gather": {
     "logged": 1678728142316
    }
   },
   "outputs": [],
   "source": [
    "# Suitability\n",
    "stringtorun = 'SELECT SUITABILITY_CODE,WORK_CENTER_LOCATION_NAME, WORK_CENTER_NAME,WORK_CENTER_CODE,PLANT FROM DM_WORK.DIM_WORK_CENTER'\n",
    "query = DataPath(datastore,stringtorun)\n",
    "tabular = Dataset.Tabular.from_sql_query(query, query_timeout=300)\n",
    "suitability_info = tabular.to_pandas_dataframe()\n"
   ]
  },
  {
   "cell_type": "code",
   "execution_count": 12,
   "metadata": {
    "gather": {
     "logged": 1678728182445
    },
    "jupyter": {
     "outputs_hidden": false,
     "source_hidden": false
    },
    "nteract": {
     "transient": {
      "deleting": false
     }
    }
   },
   "outputs": [],
   "source": [
    "suitability_info.to_csv('suitability_info.csv')"
   ]
  },
  {
   "cell_type": "code",
   "execution_count": 13,
   "metadata": {
    "jupyter": {
     "outputs_hidden": false,
     "source_hidden": false
    },
    "nteract": {
     "transient": {
      "deleting": false
     }
    }
   },
   "outputs": [],
   "source": [
    "for cnt in df['WORK_CENTER'].unique():\n",
    "    if cnt != None:\n",
    "        code = suitability_info[suitability_info['WORK_CENTER_CODE'].str.contains(cnt)]['SUITABILITY_CODE'].unique()\n",
    "        if len(code)<2:\n",
    "            subdf = df[df['WORK_CENTER']==cnt]\n",
    "            df.loc[subdf.index,'SuitabilityCode'] = code[0]"
   ]
  },
  {
   "cell_type": "code",
   "execution_count": 14,
   "metadata": {},
   "outputs": [],
   "source": [
    "df.to_csv('Olympus_Backlog.csv')"
   ]
  },
  {
   "cell_type": "code",
   "execution_count": 15,
   "metadata": {},
   "outputs": [
    {
     "name": "stdout",
     "output_type": "stream",
     "text": [
      "Validating arguments.\n",
      "Arguments validated.\n",
      "Successfully obtained datastore reference and path.\n",
      "Uploading file to managed-dataset/61c24013-5108-47f3-86ad-f1b4058c9bef/\n",
      "Successfully uploaded file to datastore.\n",
      "Creating and registering a new dataset.\n",
      "Successfully created and registered a new dataset.\n"
     ]
    }
   ],
   "source": [
    "defdatastore = ws.get_default_datastore()\n",
    "# Register the dataset\n",
    "ds = Dataset.Tabular.register_pandas_dataframe(\n",
    "        dataframe=df, \n",
    "        name='Olympus_Backlog', \n",
    "        description='Olympus_Backlog',\n",
    "        target=defdatastore\n",
    "    )"
   ]
  },
  {
   "cell_type": "code",
   "execution_count": null,
   "metadata": {},
   "outputs": [],
   "source": []
  }
 ],
 "metadata": {
  "kernel_info": {
   "name": "python38-azureml"
  },
  "kernelspec": {
   "display_name": "Python 3.8 - AzureML",
   "language": "python",
   "name": "python38-azureml"
  },
  "language_info": {
   "codemirror_mode": {
    "name": "ipython",
    "version": 3
   },
   "file_extension": ".py",
   "mimetype": "text/x-python",
   "name": "python",
   "nbconvert_exporter": "python",
   "pygments_lexer": "ipython3",
   "version": "3.8.5"
  },
  "microsoft": {
   "host": {
    "AzureML": {
     "notebookHasBeenCompleted": true
    }
   },
   "ms_spell_check": {
    "ms_spell_check_language": "en"
   }
  },
  "nteract": {
   "version": "nteract-front-end@1.0.0"
  }
 },
 "nbformat": 4,
 "nbformat_minor": 2
}
